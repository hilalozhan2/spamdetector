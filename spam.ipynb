{
 "cells": [
  {
   "cell_type": "code",
   "execution_count": 32,
   "id": "ea5b46d1-e568-4d33-9408-9b19ec5a0e8a",
   "metadata": {},
   "outputs": [
    {
     "name": "stdout",
     "output_type": "stream",
     "text": [
      "   Unnamed: 0 label                                               text  \\\n",
      "0         605   ham  Subject: enron methanol ; meter # : 988291\\r\\n...   \n",
      "1        2349   ham  Subject: hpl nom for january 9 , 2001\\r\\n( see...   \n",
      "2        3624   ham  Subject: neon retreat\\r\\nho ho ho , we ' re ar...   \n",
      "3        4685  spam  Subject: photoshop , windows , office . cheap ...   \n",
      "4        2030   ham  Subject: re : indian springs\\r\\nthis deal is t...   \n",
      "\n",
      "   label_num  \n",
      "0          0  \n",
      "1          0  \n",
      "2          0  \n",
      "3          1  \n",
      "4          0  \n"
     ]
    }
   ],
   "source": [
    "import pandas as pd\n",
    "\n",
    "# upload csv file\n",
    "data = pd.read_csv(r'C:\\Users\\User\\Desktop\\spam_ham_dataset.csv', encoding='latin-1')\n",
    "# examine the first few columns of the data structure\n",
    "print(data.head())"
   ]
  },
  {
   "cell_type": "code",
   "execution_count": 33,
   "id": "1b887025-d6f9-482d-998a-f7e2d95fdb89",
   "metadata": {},
   "outputs": [
    {
     "name": "stdout",
     "output_type": "stream",
     "text": [
      "Index(['Unnamed: 0', 'label', 'text', 'label_num'], dtype='object')\n"
     ]
    }
   ],
   "source": [
    "print(data.columns)"
   ]
  },
  {
   "cell_type": "code",
   "execution_count": 34,
   "id": "cd7627db-4133-4991-afdc-4b54da273153",
   "metadata": {},
   "outputs": [
    {
     "name": "stdout",
     "output_type": "stream",
     "text": [
      "Unnamed: 0    0\n",
      "label         0\n",
      "text          0\n",
      "label_num     0\n",
      "dtype: int64\n",
      "label        0\n",
      "text         0\n",
      "label_num    0\n",
      "dtype: int64\n",
      "  label                                               text  label_num\n",
      "0   ham  Subject: enron methanol ; meter # : 988291\\r\\n...          0\n",
      "1   ham  Subject: hpl nom for january 9 , 2001\\r\\n( see...          0\n",
      "2   ham  Subject: neon retreat\\r\\nho ho ho , we ' re ar...          0\n",
      "3  spam  Subject: photoshop , windows , office . cheap ...          1\n",
      "4   ham  Subject: re : indian springs\\r\\nthis deal is t...          0\n"
     ]
    }
   ],
   "source": [
    "# Gerekli kütüphaneleri içe aktar\n",
    "import pandas as pd\n",
    "import numpy as np\n",
    "\n",
    "# Boş değerleri kontrol et\n",
    "print(data.isnull().sum())  # Her sütundaki boş veri sayısını göster\n",
    "\n",
    "# Boş satırları temizle\n",
    "data.dropna(inplace=True)\n",
    "\n",
    "# Gereksiz sütunu kaldır (Unnamed: 0 gibi)\n",
    "if 'Unnamed: 0' in data.columns:\n",
    "    data.drop(columns=['Unnamed: 0'], inplace=True)\n",
    "\n",
    "# Temizlenen veri setini tekrar kontrol edelim\n",
    "print(data.isnull().sum())  # Şimdi boş veri olmamalı\n",
    "print(data.head())  # İlk 5 satırı tekrar görelim"
   ]
  },
  {
   "cell_type": "code",
   "execution_count": 35,
   "id": "78df0114-0490-46cc-b36f-a530478cf947",
   "metadata": {},
   "outputs": [],
   "source": [
    "import re\n",
    "\n",
    "def clean_text(text):\n",
    "    # Küçük harfe çevir\n",
    "    text = text.lower()\n",
    "    # Sayıları ve özel karakterleri kaldır\n",
    "    text = re.sub(r'\\d+', '', text)\n",
    "    text = re.sub(r'[^\\w\\s]', '', text)\n",
    "    # Kelimeleri ayır ve geri döndür\n",
    "    tokens = text.split()\n",
    "    return \" \".join(tokens)\n",
    "\n",
    "data[\"text_cleaned\"] = data[\"text\"].apply(clean_text)"
   ]
  },
  {
   "cell_type": "code",
   "execution_count": 36,
   "id": "c068a871-9692-4663-b99e-d35ab5df3518",
   "metadata": {},
   "outputs": [
    {
     "name": "stdout",
     "output_type": "stream",
     "text": [
      "Count Vectorizer Output:\n",
      " [[1 0 0 ... 0 0 0]\n",
      " [0 0 0 ... 0 0 0]\n",
      " [0 0 0 ... 0 0 0]\n",
      " ...\n",
      " [0 0 0 ... 0 0 0]\n",
      " [0 0 0 ... 0 0 0]\n",
      " [0 0 0 ... 0 0 0]]\n",
      "\n",
      "TF-IDF Output:\n",
      " [[0.09947426 0.         0.         ... 0.         0.         0.        ]\n",
      " [0.         0.         0.         ... 0.         0.         0.        ]\n",
      " [0.         0.         0.         ... 0.         0.         0.        ]\n",
      " ...\n",
      " [0.         0.         0.         ... 0.         0.         0.        ]\n",
      " [0.         0.         0.         ... 0.         0.         0.        ]\n",
      " [0.         0.         0.         ... 0.         0.         0.        ]]\n",
      "\n",
      "Kelime İsimleri: ['00' '000' '0000' ... 'zzocb' 'zzso' 'zzsyt']\n"
     ]
    }
   ],
   "source": [
    "from sklearn.feature_extraction.text import CountVectorizer, TfidfTransformer\n",
    "import pandas as pd\n",
    "\n",
    "# Veri kümesini yükleyelim\n",
    "data = pd.read_csv(r'C:\\Users\\User\\Desktop\\spam_ham_dataset.csv')  # Burada dosya adınızı belirtin\n",
    "\n",
    "# Text sütununu alalım (veri setinden)\n",
    "texts = data['text']  # text sütunundaki veriler\n",
    "\n",
    "# 1. Adım: CountVectorizer ile kelime sayımlarını al\n",
    "count_vectorizer = CountVectorizer()\n",
    "X_count = count_vectorizer.fit_transform(texts)\n",
    "\n",
    "# 2. Adım: TF-IDF'yi hesaplamak için TfidfTransformer kullan\n",
    "tfidf_transformer = TfidfTransformer()\n",
    "X_tfidf = tfidf_transformer.fit_transform(X_count)\n",
    "\n",
    "# Sonuçları görelim\n",
    "print(\"Count Vectorizer Output:\\n\", X_count.toarray())\n",
    "print(\"\\nTF-IDF Output:\\n\", X_tfidf.toarray())\n",
    "\n",
    "# Kelime isimlerini görmek için\n",
    "print(\"\\nKelime İsimleri:\", count_vectorizer.get_feature_names_out())"
   ]
  },
  {
   "cell_type": "code",
   "execution_count": 37,
   "id": "82524792-58d7-4ccb-8bc2-af7dc9da06ad",
   "metadata": {},
   "outputs": [
    {
     "name": "stdout",
     "output_type": "stream",
     "text": [
      "Önceki Etiketler:\n",
      "0     ham\n",
      "1     ham\n",
      "2     ham\n",
      "3    spam\n",
      "4     ham\n",
      "Name: label, dtype: object\n",
      "Dönüştürülmüş Etiketler:\n",
      "[0 0 0 1 0]\n"
     ]
    }
   ],
   "source": [
    "from sklearn.preprocessing import LabelEncoder\n",
    "import pandas as pd\n",
    "\n",
    "# Veri kümesini yükleyelim (kendi dosya yolunuza göre değiştirin)\n",
    "data = pd.read_csv(r'C:\\Users\\User\\Desktop\\spam_ham_dataset.csv')\n",
    "\n",
    "# Hedef değişkeni (etiketleri) y olarak tanımlayalım\n",
    "y = data['label']  # 'label' sütunu örneğin spam/ham etiketlerini içeriyor\n",
    "\n",
    "# LabelEncoder ile etiketleri dönüştürelim\n",
    "encoder = LabelEncoder()\n",
    "y_encoded = encoder.fit_transform(y)  # \"spam\" -> 1, \"ham\" -> 0 dönüşümü\n",
    "\n",
    "# Sonuçları görelim\n",
    "print(f\"Önceki Etiketler:\\n{y.head()}\")\n",
    "print(f\"Dönüştürülmüş Etiketler:\\n{y_encoded[:5]}\")  # İlk 5 örneği göster"
   ]
  },
  {
   "cell_type": "code",
   "execution_count": 38,
   "id": "53193938-1b7b-4e65-bf59-a56a62749a49",
   "metadata": {},
   "outputs": [
    {
     "name": "stdout",
     "output_type": "stream",
     "text": [
      "Eğitim seti boyutu: 4136\n",
      "Test seti boyutu: 1035\n"
     ]
    }
   ],
   "source": [
    "import re\n",
    "import numpy as np\n",
    "from sklearn.model_selection import train_test_split\n",
    "\n",
    "# Metin temizleme fonksiyonu (NLTK olmadan)\n",
    "def clean_text(text):\n",
    "    text = text.lower()  # Küçük harfe çevir\n",
    "    text = re.sub(r'\\d+', '', text)  # Sayıları kaldır\n",
    "    text = re.sub(r'[^\\w\\s]', '', text)  # Noktalama işaretlerini kaldır\n",
    "    text = re.sub(r'\\s+', ' ', text).strip()  # Gereksiz boşlukları kaldır\n",
    "    return text\n",
    "\n",
    "# Eğer `text_cleaned` sütunu yoksa, oluşturalım\n",
    "if \"text_cleaned\" not in data.columns:\n",
    "    data[\"text_cleaned\"] = data[\"text\"].apply(clean_text)\n",
    "\n",
    "# Özellikleri ve etiketleri ayır\n",
    "X = np.array(data[\"text_cleaned\"])\n",
    "y = np.array(data[\"label_num\"])  # Eğer etiketler sayısal hale getirildiyse\n",
    "\n",
    "# Veriyi eğitim ve test setlerine ayır\n",
    "X_train, X_test, y_train, y_test = train_test_split(X, y, test_size=0.2, random_state=42)\n",
    "\n",
    "print(f\"Eğitim seti boyutu: {X_train.shape[0]}\")\n",
    "print(f\"Test seti boyutu: {X_test.shape[0]}\")"
   ]
  },
  {
   "cell_type": "code",
   "execution_count": 39,
   "id": "5b7891f9-b4ed-4f0e-89e2-96b0daad242d",
   "metadata": {},
   "outputs": [],
   "source": [
    "from sklearn.feature_extraction.text import TfidfVectorizer\n",
    "\n",
    "# Veriyi liste formatına çevir ve her satırı string yap\n",
    "X_train = [str(text) for text in X_train]\n",
    "X_test = [str(text) for text in X_test]\n",
    "\n",
    "# TF-IDF vektörizeri\n",
    "tfidf = TfidfVectorizer(max_features=5000)\n",
    "\n",
    "# Eğitim verisini fit et ve dönüştür\n",
    "X_train_tfidf = tfidf.fit_transform(X_train).toarray()\n",
    "\n",
    "# Test verisini sadece dönüştür\n",
    "X_test_tfidf = tfidf.transform(X_test).toarray()\n"
   ]
  },
  {
   "cell_type": "code",
   "execution_count": 40,
   "id": "575fff03-8e8b-43f0-9ba5-18d8fe10d7c9",
   "metadata": {},
   "outputs": [
    {
     "name": "stdout",
     "output_type": "stream",
     "text": [
      "Doğruluk Oranı: 0.9884\n",
      "Sınıflandırma Raporu:\n",
      "               precision    recall  f1-score   support\n",
      "\n",
      "           0       0.99      0.99      0.99       742\n",
      "           1       0.97      0.99      0.98       293\n",
      "\n",
      "    accuracy                           0.99      1035\n",
      "   macro avg       0.98      0.99      0.99      1035\n",
      "weighted avg       0.99      0.99      0.99      1035\n",
      "\n"
     ]
    }
   ],
   "source": [
    "from sklearn.feature_extraction.text import TfidfVectorizer\n",
    "from sklearn.svm import SVC\n",
    "from sklearn.metrics import accuracy_score, classification_report\n",
    "\n",
    "# TF-IDF vektörleştirme\n",
    "vectorizer = TfidfVectorizer()\n",
    "X_train_tfidf = vectorizer.fit_transform(X_train)\n",
    "X_test_tfidf = vectorizer.transform(X_test)\n",
    "\n",
    "# SVM modelini oluştur ve eğit\n",
    "svm_model = SVC(kernel='linear', C=1.0)  # Lineer kernel kullanıyoruz\n",
    "svm_model.fit(X_train_tfidf, y_train)\n",
    "\n",
    "# Tahmin yap\n",
    "y_pred = svm_model.predict(X_test_tfidf)\n",
    "\n",
    "# Sonuçları değerlendir\n",
    "accuracy = accuracy_score(y_test, y_pred)\n",
    "print(f\"Doğruluk Oranı: {accuracy:.4f}\")\n",
    "print(\"Sınıflandırma Raporu:\\n\", classification_report(y_test, y_pred))"
   ]
  },
  {
   "cell_type": "code",
   "execution_count": 41,
   "id": "f789bd24-89a2-4f58-98c8-1dbfa91b7e48",
   "metadata": {},
   "outputs": [
    {
     "data": {
      "image/png": "[encoded data removed]",
      "text/plain": [
       "<Figure size 600x400 with 2 Axes>"
      ]
     },
     "metadata": {},
     "output_type": "display_data"
    }
   ],
   "source": [
    "import matplotlib.pyplot as plt\n",
    "import seaborn as sns\n",
    "from sklearn.metrics import confusion_matrix\n",
    "\n",
    "# Confusion Matrix hesapla\n",
    "cm = confusion_matrix(y_test, y_pred)\n",
    "\n",
    "# Görselleştirme\n",
    "plt.figure(figsize=(6, 4))\n",
    "sns.heatmap(cm, annot=True, fmt=\"d\", cmap=\"Blues\", xticklabels=[\"Ham\", \"Spam\"], yticklabels=[\"Ham\", \"Spam\"])\n",
    "plt.xlabel(\"Tahmin Edilen Etiket\")\n",
    "plt.ylabel(\"Gerçek Etiket\")\n",
    "plt.title(\"Confusion Matrix - SVM Modeli\")\n",
    "plt.show()"
   ]
  },
  {
   "cell_type": "code",
   "execution_count": 42,
   "id": "35b3b69d-6545-4a41-816b-19e8c1b3f97e",
   "metadata": {},
   "outputs": [
    {
     "name": "stdout",
     "output_type": "stream",
     "text": [
      "Index(['Unnamed: 0', 'label', 'text', 'label_num', 'text_cleaned'], dtype='object')\n"
     ]
    }
   ],
   "source": [
    "print(data.columns)"
   ]
  },
  {
   "cell_type": "code",
   "execution_count": 43,
   "id": "d5814dab-f80a-4a87-9f6a-934a1251848b",
   "metadata": {},
   "outputs": [
    {
     "name": "stdout",
     "output_type": "stream",
     "text": [
      "Doğruluk (Accuracy): 0.9884\n",
      "Hassasiyet (Precision): 0.9731\n",
      "Duyarlılık (Recall - Sensitivity): 0.9863\n",
      "Özgüllük (Specificity): 0.9892\n",
      "F1 Skoru: 0.9797\n"
     ]
    }
   ],
   "source": [
    "from sklearn.metrics import accuracy_score, precision_score, recall_score, f1_score, confusion_matrix\n",
    "\n",
    "# Confusion Matrix hesapla\n",
    "cm = confusion_matrix(y_test, y_pred)\n",
    "\n",
    "# TP, TN, FP, FN değerlerini al\n",
    "TN, FP, FN, TP = cm.ravel()\n",
    "\n",
    "# Ölçütleri hesapla\n",
    "accuracy = accuracy_score(y_test, y_pred)\n",
    "precision = precision_score(y_test, y_pred)\n",
    "recall = recall_score(y_test, y_pred)  # Duyarlılık (Sensitivity)\n",
    "specificity = TN / (TN + FP)  # Özgüllük\n",
    "f1 = f1_score(y_test, y_pred)\n",
    "\n",
    "# Sonuçları yazdır\n",
    "print(f\"Doğruluk (Accuracy): {accuracy:.4f}\")\n",
    "print(f\"Hassasiyet (Precision): {precision:.4f}\")\n",
    "print(f\"Duyarlılık (Recall - Sensitivity): {recall:.4f}\")\n",
    "print(f\"Özgüllük (Specificity): {specificity:.4f}\")\n",
    "print(f\"F1 Skoru: {f1:.4f}\")"
   ]
  },
  {
   "cell_type": "code",
   "execution_count": null,
   "id": "63c69b62-78ea-4f0e-9d85-e4dbfeb194af",
   "metadata": {},
   "outputs": [],
   "source": [
    "#roc curve, testing the predictions can be added"
   ]
  },
  {
   "cell_type": "code",
   "execution_count": null,
   "id": "17a72854-1f95-451f-87e4-132e0c5ec080",
   "metadata": {},
   "outputs": [],
   "source": []
  }
 ],
 "metadata": {
  "kernelspec": {
   "display_name": "Python 3 (ipykernel)",
   "language": "python",
   "name": "python3"
  },
  "language_info": {
   "codemirror_mode": {
    "name": "ipython",
    "version": 3
   },
   "file_extension": ".py",
   "mimetype": "text/x-python",
   "name": "python",
   "nbconvert_exporter": "python",
   "pygments_lexer": "ipython3",
   "version": "3.9.0"
  }
 },
 "nbformat": 4,
 "nbformat_minor": 5
}
